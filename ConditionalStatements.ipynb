{
 "cells": [
  {
   "cell_type": "code",
   "execution_count": 4,
   "metadata": {},
   "outputs": [
    {
     "name": "stdout",
     "output_type": "stream",
     "text": [
      "Go\n"
     ]
    }
   ],
   "source": [
    "color = 'green'\n",
    "if (color):\n",
    "    print(\"Go\")\n",
    "else:\n",
    "    print(\"Stop\")"
   ]
  },
  {
   "cell_type": "code",
   "execution_count": 5,
   "metadata": {},
   "outputs": [
    {
     "name": "stdout",
     "output_type": "stream",
     "text": [
      "Stop\n"
     ]
    }
   ],
   "source": [
    "color = 'green'\n",
    "if (color == 'red'):\n",
    "    print(\"Go\")\n",
    "else:\n",
    "    print(\"Stop\")"
   ]
  },
  {
   "cell_type": "code",
   "execution_count": 9,
   "metadata": {},
   "outputs": [
    {
     "name": "stdout",
     "output_type": "stream",
     "text": [
      "Go\n"
     ]
    }
   ],
   "source": [
    "color = 'green'\n",
    "if (color == 'green'):\n",
    "    print(\"Go\")\n",
    "elif (color == 'yello'):\n",
    "    print(\"wait\")\n",
    "else:\n",
    "    print(\"Stop\")"
   ]
  },
  {
   "cell_type": "code",
   "execution_count": 3,
   "metadata": {},
   "outputs": [
    {
     "name": "stdout",
     "output_type": "stream",
     "text": [
      "A star\n"
     ]
    }
   ],
   "source": [
    "n = 10\n",
    "if(n==0):\n",
    "    print(\"A circle\")\n",
    "elif(n==3):\n",
    "    print(\"A triangle\")\n",
    "elif(n==4):\n",
    "    print(\"A rectangle\")\n",
    "elif(n==5):\n",
    "    print(\"A pentagon\")\n",
    "elif(n==6):\n",
    "    print(\"A hexagon\")\n",
    "elif(n==7):\n",
    "    print(\"A heptagon\")\n",
    "elif(n==8):\n",
    "    print(\"A octagon\")\n",
    "elif(n==9):\n",
    "    print(\"A nonagon\")\n",
    "elif(n==10):\n",
    "    print(\"A star\")\n",
    "else:\n",
    "    print(\"\")"
   ]
  },
  {
   "cell_type": "markdown",
   "metadata": {},
   "source": [
    "## For loop"
   ]
  },
  {
   "cell_type": "code",
   "execution_count": 4,
   "metadata": {},
   "outputs": [
    {
     "name": "stdout",
     "output_type": "stream",
     "text": [
      "P\n",
      "y\n",
      "t\n",
      "h\n",
      "o\n",
      "n\n"
     ]
    }
   ],
   "source": [
    "for i in 'Python':\n",
    "    print(i)"
   ]
  },
  {
   "cell_type": "code",
   "execution_count": 5,
   "metadata": {},
   "outputs": [
    {
     "name": "stdout",
     "output_type": "stream",
     "text": [
      "1\n",
      "4\n",
      "9\n",
      "16\n",
      "25\n",
      "36\n"
     ]
    }
   ],
   "source": [
    "for x in [1,2,3,4,5,6]:\n",
    "    print(x**2)"
   ]
  },
  {
   "cell_type": "code",
   "execution_count": 6,
   "metadata": {},
   "outputs": [
    {
     "name": "stdout",
     "output_type": "stream",
     "text": [
      "0\n",
      "1\n",
      "2\n",
      "3\n",
      "4\n",
      "5\n",
      "6\n",
      "7\n",
      "8\n",
      "9\n"
     ]
    }
   ],
   "source": [
    "for i in list(range(10)):\n",
    "    print(i)"
   ]
  },
  {
   "cell_type": "code",
   "execution_count": 7,
   "metadata": {},
   "outputs": [
    {
     "name": "stdout",
     "output_type": "stream",
     "text": [
      "P\n",
      "y\n",
      "t\n",
      "h\n",
      "o\n",
      "n\n",
      "for loop executed completely\n"
     ]
    }
   ],
   "source": [
    "for i in 'Python':\n",
    "    print(i)\n",
    "else:\n",
    "    print('for loop executed completely')"
   ]
  },
  {
   "cell_type": "markdown",
   "metadata": {},
   "source": [
    "## nested loop"
   ]
  },
  {
   "cell_type": "code",
   "execution_count": 9,
   "metadata": {},
   "outputs": [
    {
     "name": "stdout",
     "output_type": "stream",
     "text": [
      "a\n",
      "b\n",
      "c\n",
      "----1time----\n",
      "a\n",
      "b\n",
      "c\n",
      "----2time----\n",
      "a\n",
      "b\n",
      "c\n",
      "----3time----\n"
     ]
    }
   ],
   "source": [
    "for x in range(1,4):\n",
    "    for y in 'abc':\n",
    "        print(y)\n",
    "    print('----'+ str(x) + 'time'+'----')"
   ]
  },
  {
   "cell_type": "code",
   "execution_count": 13,
   "metadata": {},
   "outputs": [],
   "source": [
    "b=[-3,2,1,-2,3,4,5,-6,6]"
   ]
  },
  {
   "cell_type": "code",
   "execution_count": 14,
   "metadata": {},
   "outputs": [
    {
     "name": "stdout",
     "output_type": "stream",
     "text": [
      "4\n",
      "1\n",
      "9\n",
      "16\n",
      "25\n",
      "36\n"
     ]
    }
   ],
   "source": [
    "for i in b:\n",
    "    if(i<0):\n",
    "        continue\n",
    "    else:\n",
    "        i = i**2\n",
    "        print(i)"
   ]
  },
  {
   "cell_type": "code",
   "execution_count": 16,
   "metadata": {},
   "outputs": [],
   "source": [
    "c=[3,2,1,0,-1,-2,-3]"
   ]
  },
  {
   "cell_type": "code",
   "execution_count": 17,
   "metadata": {},
   "outputs": [
    {
     "name": "stdout",
     "output_type": "stream",
     "text": [
      "9\n",
      "4\n",
      "1\n",
      "0\n"
     ]
    }
   ],
   "source": [
    "for i in c:\n",
    "    if(i<0):\n",
    "        break\n",
    "    else:\n",
    "        i = i**2\n",
    "        print(i)"
   ]
  },
  {
   "cell_type": "code",
   "execution_count": 18,
   "metadata": {},
   "outputs": [],
   "source": [
    "d=[-5,-3,-4,-1,5,-2,1,-6]"
   ]
  },
  {
   "cell_type": "code",
   "execution_count": 19,
   "metadata": {},
   "outputs": [],
   "source": [
    "for i in d:\n",
    "    if(i<0):\n",
    "        break\n",
    "    else:\n",
    "        i = i**2\n",
    "        print(i)"
   ]
  },
  {
   "cell_type": "markdown",
   "metadata": {},
   "source": [
    "## while loop"
   ]
  },
  {
   "cell_type": "code",
   "execution_count": 22,
   "metadata": {},
   "outputs": [
    {
     "name": "stdout",
     "output_type": "stream",
     "text": [
      "5\n",
      "4\n",
      "3\n",
      "2\n",
      "1\n",
      "while loop executed completely\n"
     ]
    }
   ],
   "source": [
    "a=5\n",
    "while a>0 :\n",
    "    print(a)\n",
    "    a -= 1\n",
    "else:\n",
    "    print('while loop executed completely')"
   ]
  },
  {
   "cell_type": "code",
   "execution_count": null,
   "metadata": {},
   "outputs": [],
   "source": []
  }
 ],
 "metadata": {
  "kernelspec": {
   "display_name": "Python 3",
   "language": "python",
   "name": "python3"
  },
  "language_info": {
   "codemirror_mode": {
    "name": "ipython",
    "version": 3
   },
   "file_extension": ".py",
   "mimetype": "text/x-python",
   "name": "python",
   "nbconvert_exporter": "python",
   "pygments_lexer": "ipython3",
   "version": "3.8.5"
  }
 },
 "nbformat": 4,
 "nbformat_minor": 4
}
